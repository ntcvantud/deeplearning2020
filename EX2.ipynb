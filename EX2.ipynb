{
  "nbformat": 4,
  "nbformat_minor": 0,
  "metadata": {
    "colab": {
      "name": "EX2.ipynb",
      "provenance": [],
      "private_outputs": true,
      "collapsed_sections": [],
      "authorship_tag": "ABX9TyNxZpjVS1ZOSzID69UwdOR/",
      "include_colab_link": true
    },
    "kernelspec": {
      "name": "python3",
      "display_name": "Python 3"
    },
    "accelerator": "GPU"
  },
  "cells": [
    {
      "cell_type": "markdown",
      "metadata": {
        "id": "view-in-github",
        "colab_type": "text"
      },
      "source": [
        "<a href=\"https://colab.research.google.com/github/ntcvantud/deeplearning2020/blob/master/EX2.ipynb\" target=\"_parent\"><img src=\"https://colab.research.google.com/assets/colab-badge.svg\" alt=\"Open In Colab\"/></a>"
      ]
    },
    {
      "cell_type": "code",
      "metadata": {
        "id": "j0gpOAVQIiI-",
        "colab_type": "code",
        "colab": {}
      },
      "source": [
        "import numpy as np\n",
        "import pandas as pd\n",
        "import matplotlib.pyplot as plt"
      ],
      "execution_count": 0,
      "outputs": []
    },
    {
      "cell_type": "markdown",
      "metadata": {
        "id": "OH9BDCM-1uKf",
        "colab_type": "text"
      },
      "source": [
        "cau 1"
      ]
    },
    {
      "cell_type": "code",
      "metadata": {
        "id": "o-ZlwyAwrt1U",
        "colab_type": "code",
        "colab": {}
      },
      "source": [
        "def diffx2(x):\n",
        "    return 2*x\n",
        "\n",
        "def x2(x):\n",
        "    return x**2\n",
        "\n",
        "def GDx2(x0,learning_rate):\n",
        "    x = [x0]\n",
        "    cost = [x2(x0)]\n",
        "    for i in range(1000):\n",
        "        learned_x = x[-1] - learning_rate*diffx2(x[-1])\n",
        "        x.append(learned_x)\n",
        "        cost.append(x2(learned_x))\n",
        "    return (x,cost)\n",
        "\n",
        "\n",
        "fig = plt.figure(figsize=(20,5))\n",
        "\n",
        "graph = GDx2(-4,0.99)\n",
        "plt.subplot(1,3,1)\n",
        "plt.xlabel('too high')\n",
        "plt.plot(graph[0],graph[1])\n",
        "\n",
        "graph = GDx2(-4,0.1)\n",
        "plt.subplot(1,3,2)\n",
        "plt.xlabel('just right')\n",
        "plt.plot(graph[0],graph[1])\n",
        "\n",
        "graph = GDx2(-4,0.00001)\n",
        "plt.subplot(1,3,3)\n",
        "plt.xlabel('too low')\n",
        "plt.plot(graph[0],graph[1])\n",
        ";"
      ],
      "execution_count": 0,
      "outputs": []
    },
    {
      "cell_type": "code",
      "metadata": {
        "id": "WfN0Ws55sXBY",
        "colab_type": "code",
        "colab": {}
      },
      "source": [
        "data = pd.read_csv('/content/drive/My Drive/Colab Notebooks/data_linear.csv').values\n",
        "https://drive.google.com/open?id=1-3A7dnkC7YYrci7LIsMHozSdHjlt2od6\n",
        "data_linear\n",
        "N = data.shape[0]\n",
        "x = data[:, 0].reshape(-1, 1)\n",
        "y = data[:, 1].reshape(-1, 1)\n",
        "plt.scatter(x,y)\n",
        ";"
      ],
      "execution_count": 0,
      "outputs": []
    }
  ]
}